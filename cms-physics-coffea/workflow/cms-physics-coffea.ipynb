{
 "cells": [
  {
   "cell_type": "code",
   "execution_count": 17,
   "id": "781e9011-d794-4ebe-8ef5-3bd635f8ec07",
   "metadata": {},
   "outputs": [],
   "source": [
    "import os\n",
    "from coffea.nanoevents import NanoEventsFactory\n",
    "from coffea import processor\n",
    "\n",
    "import dask_awkward as dak\n",
    "import hist.dask as hda\n",
    "\n",
    "import warnings\n",
    "warnings.filterwarnings(\"error\", module=\"coffea.*\")\n",
    "\n",
    "\n",
    "use_taskvine = True\n",
    "\n",
    "if use_taskvine:\n",
    "    from ndcctools.taskvine import DaskVine\n",
    "\n",
    "    vine_manager = DaskVine(\n",
    "        [9123, 9128],\n",
    "        name=f\"{os.environ.get(\"VINE_MANAGER_NAME\")}\",\n",
    "    )\n",
    "\n",
    "    executor_args = {\n",
    "        \"scheduler\": vine_manager,\n",
    "        \"worker_transfers\": True,\n",
    "        # \"task_mode\": \"function-calls\",\n",
    "    }\n",
    "else:\n",
    "    from distributed import Client\n",
    "    client = Client()\n",
    "\n",
    "    executor_args = {}"
   ]
  },
  {
   "cell_type": "code",
   "execution_count": 19,
   "id": "35463635-acb2-4d33-89da-68d5b7344c20",
   "metadata": {},
   "outputs": [
    {
     "data": {
      "application/vnd.jupyter.widget-view+json": {
       "model_id": "2e5b870545ea4ab796c2445abef1bbd3",
       "version_major": 2,
       "version_minor": 0
      },
      "text/plain": [
       "Output()"
      ]
     },
     "metadata": {},
     "output_type": "display_data"
    },
    {
     "data": {
      "text/html": [
       "<pre style=\"white-space:pre;overflow-x:auto;line-height:normal;font-family:Menlo,'DejaVu Sans Mono',consolas,'Courier New',monospace\"></pre>\n"
      ],
      "text/plain": []
     },
     "metadata": {},
     "output_type": "display_data"
    },
    {
     "data": {
      "text/plain": [
       "{'from-uproot-9e9b312166322faefaf9bb08890cffef': frozenset({'MET_pt'})}"
      ]
     },
     "execution_count": 19,
     "metadata": {},
     "output_type": "execute_result"
    },
    {
     "data": {
      "image/png": "[encoded data removed]",
      "text/plain": [
       "<Figure size 640x480 with 1 Axes>"
      ]
     },
     "metadata": {},
     "output_type": "display_data"
    }
   ],
   "source": [
    "data_abs_path = os.path.abspath(\"data/small_data.root\")\n",
    "data_url = f\"file://{data_abs_path}\"\n",
    "\n",
    "data_file = (data_url,)\n",
    "\n",
    "from coffea.nanoevents.schemas import NanoAODSchema\n",
    "\n",
    "\n",
    "NanoAODSchema.warn_missing_crossrefs = False\n",
    "\n",
    "\n",
    "events = NanoEventsFactory.from_root(\n",
    "    {data_file: \"/Events\"},\n",
    "    metadata={\"dataset\": \"SingleMu\"}\n",
    ").events()\n",
    "\n",
    "q1_hist = (\n",
    "    hda.Hist.new.Reg(100, 0, 200, name=\"met\", label=\"$E_{T}^{miss}$ [GeV]\")\n",
    "    .Double()\n",
    "    .fill(events.MET.pt)\n",
    ")\n",
    "\n",
    "q1_hist.compute(**executor_args).plot1d()\n",
    "\n",
    "dak.necessary_columns(q1_hist)"
   ]
  }
 ],
 "metadata": {
  "kernelspec": {
   "display_name": "Python 3 (ipykernel)",
   "language": "python",
   "name": "python3"
  },
  "language_info": {
   "codemirror_mode": {
    "name": "ipython",
    "version": 3
   },
   "file_extension": ".py",
   "mimetype": "text/x-python",
   "name": "python",
   "nbconvert_exporter": "python",
   "pygments_lexer": "ipython3",
   "version": "3.13.2"
  }
 },
 "nbformat": 4,
 "nbformat_minor": 5
}
