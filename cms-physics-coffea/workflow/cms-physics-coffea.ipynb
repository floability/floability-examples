{
 "cells": [
  {
   "cell_type": "code",
   "execution_count": 1,
   "id": "723f17f6",
   "metadata": {},
   "outputs": [
    {
     "name": "stdout",
     "output_type": "stream",
     "text": [
      "Manager name: floability-b90c222e-2992-4964-a537-09f67cf14e80\n",
      "Manager Ports: [502, 510]\n"
     ]
    }
   ],
   "source": [
    "import os\n",
    "\n",
    "manager_name = api_key = os.environ.get(\"VINE_MANAGER_NAME\")\n",
    "print(f\"Manager name: {manager_name}\")\n",
    "\n",
    "ports_str = os.environ.get(\"VINE_MANAGER_PORTS\", \"9123, 9150\")\n",
    "ports = [int(p.strip()) for p in ports_str.split(\",\")]\n",
    "print(f\"Manager Ports: {ports}\")"
   ]
  },
  {
   "cell_type": "code",
   "execution_count": 2,
   "id": "781e9011-d794-4ebe-8ef5-3bd635f8ec07",
   "metadata": {},
   "outputs": [],
   "source": [
    "import os\n",
    "from coffea.nanoevents import NanoEventsFactory\n",
    "from coffea import processor\n",
    "\n",
    "import dask_awkward as dak\n",
    "import hist.dask as hda\n",
    "\n",
    "import warnings\n",
    "warnings.filterwarnings(\"error\", module=\"coffea.*\")\n",
    "\n",
    "\n",
    "use_taskvine = True\n",
    "\n",
    "if use_taskvine:\n",
    "    from ndcctools.taskvine import DaskVine\n",
    "    \n",
    "    vine_manager = DaskVine(ports, name=manager_name)\n",
    "\n",
    "    executor_args = {\n",
    "        \"scheduler\": vine_manager,\n",
    "        \"worker_transfers\": True,\n",
    "        # \"task_mode\": \"function-calls\",\n",
    "    }\n",
    "else:\n",
    "    from distributed import Client\n",
    "    client = Client()\n",
    "\n",
    "    executor_args = {}"
   ]
  },
  {
   "cell_type": "code",
   "execution_count": 3,
   "id": "e3a0285d-fa9e-45fe-8db4-68ff65439ca2",
   "metadata": {},
   "outputs": [],
   "source": [
    "import os\n",
    "\n",
    "remote_url = 'https://raw.githubusercontent.com/floability/floability-examples/main/cms-physics-coffea/data/small_data.root'\n",
    "\n",
    "data_abs_path = os.path.abspath(\"data/small_data.root\")\n",
    "\n",
    "use_remote = os.getenv(\"USE_REMOTE_DATA\", \"false\").lower() in (\"1\", \"true\", \"yes\")\n",
    "\n",
    "if use_remote:\n",
    "    fileset = {remote_url: \"Events\"}\n",
    "else:\n",
    "    fileset = {data_abs_path: \"Events\"} "
   ]
  },
  {
   "cell_type": "code",
   "execution_count": 4,
   "id": "35463635-acb2-4d33-89da-68d5b7344c20",
   "metadata": {},
   "outputs": [
    {
     "data": {
      "application/vnd.jupyter.widget-view+json": {
       "model_id": "becb726f3a7d4a56af4aa8f462ee9a6b",
       "version_major": 2,
       "version_minor": 0
      },
      "text/plain": [
       "Output()"
      ]
     },
     "metadata": {},
     "output_type": "display_data"
    },
    {
     "data": {
      "text/html": [
       "<pre style=\"white-space:pre;overflow-x:auto;line-height:normal;font-family:Menlo,'DejaVu Sans Mono',consolas,'Courier New',monospace\"></pre>\n"
      ],
      "text/plain": []
     },
     "metadata": {},
     "output_type": "display_data"
    },
    {
     "data": {
      "text/plain": [
       "[StairsArtists(stairs=<matplotlib.patches.StepPatch object at 0x7f007eb40ad0>, errorbar=<ErrorbarContainer object of 3 artists>, legend_artist=<ErrorbarContainer object of 3 artists>)]"
      ]
     },
     "execution_count": 4,
     "metadata": {},
     "output_type": "execute_result"
    },
    {
     "data": {
      "image/png": "[encoded data removed]",
      "text/plain": [
       "<Figure size 640x480 with 1 Axes>"
      ]
     },
     "metadata": {},
     "output_type": "display_data"
    }
   ],
   "source": [
    "from coffea.nanoevents import NanoEventsFactory\n",
    "from coffea.nanoevents.schemas import NanoAODSchema\n",
    "import hist.dask as hda\n",
    "import os\n",
    "\n",
    "NanoAODSchema.warn_missing_crossrefs = False\n",
    "\n",
    "events = (\n",
    "    NanoEventsFactory.from_root(\n",
    "        fileset,        \n",
    "        schemaclass=NanoAODSchema,\n",
    "        metadata={\"dataset\": \"SingleMu\"},\n",
    "        mode=\"dask\"\n",
    "    )\n",
    "    .events()\n",
    ")\n",
    "\n",
    "q1_hist = (\n",
    "    hda.Hist.new.Reg(100, 0, 200, name=\"met\",\n",
    "                     label=r\"$E_{T}^{\\text{miss}}\\;[\\mathrm{GeV}]$\")\n",
    "    .Double()\n",
    "    .fill(events.MET.pt)\n",
    ")\n",
    "\n",
    "q1_hist.compute(**executor_args).plot1d()"
   ]
  }
 ],
 "metadata": {
  "kernelspec": {
   "display_name": "Python 3 (ipykernel)",
   "language": "python",
   "name": "python3"
  },
  "language_info": {
   "codemirror_mode": {
    "name": "ipython",
    "version": 3
   },
   "file_extension": ".py",
   "mimetype": "text/x-python",
   "name": "python",
   "nbconvert_exporter": "python",
   "pygments_lexer": "ipython3",
   "version": "3.13.5"
  }
 },
 "nbformat": 4,
 "nbformat_minor": 5
}
